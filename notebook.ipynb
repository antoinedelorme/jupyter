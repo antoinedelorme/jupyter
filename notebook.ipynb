{
 "cells": [
  {
   "cell_type": "markdown",
   "metadata": {},
   "source": [
    "![photo Clemence](photo.jpg)\n",
    "\n",
    "\n",
    "[intersting link](https://note.nkmk.me/en/python-numpy-image-processing/)"
   ]
  },
  {
   "cell_type": "code",
   "execution_count": 1,
   "metadata": {},
   "outputs": [],
   "source": [
    "import numpy as np\n",
    "import psutil\n",
    "from PIL import Image\n",
    "#Read image\n",
    "im = Image.open( 'photo.jpg' )\n",
    "#Display image\n",
    "im.show()"
   ]
  },
  {
   "cell_type": "code",
   "execution_count": 2,
   "metadata": {},
   "outputs": [
    {
     "name": "stdout",
     "output_type": "stream",
     "text": [
      "Start - 70.27\n",
      "After open - 70.29\n",
      "After load - 83.81\n",
      "After np.asarray - 93.76\n"
     ]
    }
   ],
   "source": [
    "process = psutil.Process()\n",
    "\n",
    "print(f\"Start - {psutil.Process().memory_info().rss / 1024 / 1024:.02f}\")\n",
    "pil_image = Image.open(\"photo.jpg\")\n",
    "print(f\"After open - {psutil.Process().memory_info().rss / 1024 / 1024:.02f}\")\n",
    "pil_image.load()\n",
    "print(f\"After load - {psutil.Process().memory_info().rss / 1024 / 1024:.02f}\")\n",
    "np_image = np.asarray(pil_image)\n",
    "print(f\"After np.asarray - {psutil.Process().memory_info().rss / 1024 / 1024:.02f}\")"
   ]
  },
  {
   "cell_type": "code",
   "execution_count": 4,
   "metadata": {},
   "outputs": [
    {
     "name": "stdout",
     "output_type": "stream",
     "text": [
      "hello 10.12\n"
     ]
    }
   ],
   "source": [
    "toto =10.1245\n",
    "print(f'hello {toto:.02f}')"
   ]
  },
  {
   "cell_type": "code",
   "execution_count": 10,
   "metadata": {},
   "outputs": [
    {
     "ename": "NameError",
     "evalue": "name 'pil_image' is not defined",
     "output_type": "error",
     "traceback": [
      "\u001b[0;31m---------------------------------------------------------------------------\u001b[0m",
      "\u001b[0;31mNameError\u001b[0m                                 Traceback (most recent call last)",
      "\u001b[0;32m<ipython-input-10-55a64c9731ee>\u001b[0m in \u001b[0;36m<module>\u001b[0;34m\u001b[0m\n\u001b[0;32m----> 1\u001b[0;31m \u001b[0;32mdel\u001b[0m \u001b[0mpil_image\u001b[0m\u001b[0;34m\u001b[0m\u001b[0;34m\u001b[0m\u001b[0m\n\u001b[0m\u001b[1;32m      2\u001b[0m \u001b[0mprint\u001b[0m\u001b[0;34m(\u001b[0m\u001b[0;34mf\"After deletion - {psutil.Process().memory_info().rss / 1024 / 1024:.01f}\"\u001b[0m\u001b[0;34m)\u001b[0m\u001b[0;34m\u001b[0m\u001b[0;34m\u001b[0m\u001b[0m\n",
      "\u001b[0;31mNameError\u001b[0m: name 'pil_image' is not defined"
     ]
    }
   ],
   "source": [
    "del pil_image\n",
    "print(f\"After deletion - {psutil.Process().memory_info().rss / 1024 / 1024:.01f}\")"
   ]
  },
  {
   "cell_type": "code",
   "execution_count": 9,
   "metadata": {},
   "outputs": [
    {
     "data": {
      "text/plain": [
       "(1536, 2304, 3)"
      ]
     },
     "execution_count": 9,
     "metadata": {},
     "output_type": "execute_result"
    }
   ],
   "source": [
    "np_image.shape"
   ]
  },
  {
   "cell_type": "code",
   "execution_count": null,
   "metadata": {},
   "outputs": [],
   "source": []
  }
 ],
 "metadata": {
  "kernelspec": {
   "display_name": "Python 3",
   "language": "python",
   "name": "python3"
  },
  "language_info": {
   "codemirror_mode": {
    "name": "ipython",
    "version": 3
   },
   "file_extension": ".py",
   "mimetype": "text/x-python",
   "name": "python",
   "nbconvert_exporter": "python",
   "pygments_lexer": "ipython3",
   "version": "3.8.1"
  }
 },
 "nbformat": 4,
 "nbformat_minor": 4
}
